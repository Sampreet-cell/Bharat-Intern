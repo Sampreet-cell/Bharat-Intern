{
 "cells": [
  {
   "cell_type": "code",
   "execution_count": 1,
   "id": "744175ba",
   "metadata": {},
   "outputs": [],
   "source": [
    "import pandas as pd\n",
    "import numpy as np\n",
    "from sklearn.preprocessing import MinMaxScaler\n",
    "from tensorflow.keras.models import Sequential\n",
    "from tensorflow.keras.layers import LSTM, Dense\n",
    "import matplotlib.pyplot as plt"
   ]
  },
  {
   "cell_type": "markdown",
   "id": "822c482c",
   "metadata": {},
   "source": [
    "# Loading the company stock data"
   ]
  },
  {
   "cell_type": "code",
   "execution_count": 2,
   "id": "0e0571bd",
   "metadata": {},
   "outputs": [],
   "source": [
    "df = pd.read_csv(\"TCS_stock_history.csv\")"
   ]
  },
  {
   "cell_type": "markdown",
   "id": "2cdb2c2b",
   "metadata": {},
   "source": [
    "### Extract the \"Close\" prices and convert it to a numpy array"
   ]
  },
  {
   "cell_type": "code",
   "execution_count": 3,
   "id": "b43b1abe",
   "metadata": {},
   "outputs": [],
   "source": [
    "data = df.filter([\"Close\"])"
   ]
  },
  {
   "cell_type": "code",
   "execution_count": 4,
   "id": "623f3506",
   "metadata": {},
   "outputs": [],
   "source": [
    "dataset = data.values"
   ]
  },
  {
   "cell_type": "code",
   "execution_count": 5,
   "id": "8e292a64",
   "metadata": {},
   "outputs": [],
   "source": [
    "training_data_len = int(np.ceil(0.8 * len(dataset)))"
   ]
  },
  {
   "cell_type": "markdown",
   "id": "7007e7c0",
   "metadata": {},
   "source": [
    "### Scale the extracted data and split it to training and test data"
   ]
  },
  {
   "cell_type": "code",
   "execution_count": 6,
   "id": "7c6dfc95",
   "metadata": {},
   "outputs": [],
   "source": [
    "scaler = MinMaxScaler(feature_range=(0, 1))\n",
    "scaled_data = scaler.fit_transform(dataset)"
   ]
  },
  {
   "cell_type": "code",
   "execution_count": 7,
   "id": "dcd18935",
   "metadata": {},
   "outputs": [],
   "source": [
    "train_data = scaled_data[:training_data_len, :]\n",
    "test_data = scaled_data[training_data_len:, :]"
   ]
  },
  {
   "cell_type": "markdown",
   "id": "df65d9aa",
   "metadata": {},
   "source": [
    "# Define the LSTM (Long-Short-Term-Memory) model"
   ]
  },
  {
   "cell_type": "code",
   "execution_count": 8,
   "id": "326e222c",
   "metadata": {},
   "outputs": [],
   "source": [
    "model = Sequential()\n",
    "model.add(LSTM(50, return_sequences=True, input_shape=(train_data.shape[1], 1)))\n",
    "model.add(LSTM(50, return_sequences=False))\n",
    "model.add(Dense(25))\n",
    "model.add(Dense(1))"
   ]
  },
  {
   "cell_type": "code",
   "execution_count": 9,
   "id": "15323afe",
   "metadata": {},
   "outputs": [],
   "source": [
    "model.compile(optimizer='adam', loss='mean_squared_error')"
   ]
  },
  {
   "cell_type": "markdown",
   "id": "cdd11ef5",
   "metadata": {},
   "source": [
    "### Train the model and create dataset for testing data"
   ]
  },
  {
   "cell_type": "code",
   "execution_count": 10,
   "id": "eebb537f",
   "metadata": {},
   "outputs": [
    {
     "name": "stdout",
     "output_type": "stream",
     "text": [
      "Epoch 1/10\n",
      "3571/3571 [==============================] - 8s 2ms/step - loss: 3.0107e-04\n",
      "Epoch 2/10\n",
      "3571/3571 [==============================] - 6s 2ms/step - loss: 7.6999e-06\n",
      "Epoch 3/10\n",
      "3571/3571 [==============================] - 6s 2ms/step - loss: 1.3804e-05\n",
      "Epoch 4/10\n",
      "3571/3571 [==============================] - 6s 2ms/step - loss: 1.4485e-05\n",
      "Epoch 5/10\n",
      "3571/3571 [==============================] - 6s 2ms/step - loss: 5.6162e-06\n",
      "Epoch 6/10\n",
      "3571/3571 [==============================] - 6s 2ms/step - loss: 9.6631e-06\n",
      "Epoch 7/10\n",
      "3571/3571 [==============================] - 7s 2ms/step - loss: 1.4679e-05\n",
      "Epoch 8/10\n",
      "3571/3571 [==============================] - 5s 2ms/step - loss: 5.8835e-06\n",
      "Epoch 9/10\n",
      "3571/3571 [==============================] - 6s 2ms/step - loss: 1.0913e-05\n",
      "Epoch 10/10\n",
      "3571/3571 [==============================] - 6s 2ms/step - loss: 6.0465e-06\n"
     ]
    },
    {
     "data": {
      "text/plain": [
       "<keras.callbacks.History at 0x21b2931a430>"
      ]
     },
     "execution_count": 10,
     "metadata": {},
     "output_type": "execute_result"
    }
   ],
   "source": [
    "model.fit(train_data, train_data, batch_size=1, epochs=10)"
   ]
  },
  {
   "cell_type": "code",
   "execution_count": 11,
   "id": "e3009389",
   "metadata": {},
   "outputs": [],
   "source": [
    "x_test = []\n",
    "y_test = dataset[training_data_len:, :]\n",
    "\n",
    "for i in range(training_data_len, len(dataset)):\n",
    "    x_test.append(scaled_data[i - train_data.shape[1]:i, 0])"
   ]
  },
  {
   "cell_type": "markdown",
   "id": "04d6d8fb",
   "metadata": {},
   "source": [
    "### Convert the testing dataset into a numpy array"
   ]
  },
  {
   "cell_type": "code",
   "execution_count": 12,
   "id": "7c2b2522",
   "metadata": {},
   "outputs": [],
   "source": [
    "x_test = np.array(x_test)"
   ]
  },
  {
   "cell_type": "code",
   "execution_count": 13,
   "id": "3bb9e048",
   "metadata": {},
   "outputs": [],
   "source": [
    "x_test = np.reshape(x_test, (x_test.shape[0], x_test.shape[1], 1))"
   ]
  },
  {
   "cell_type": "markdown",
   "id": "3c88c813",
   "metadata": {},
   "source": [
    "### Get the predicted values"
   ]
  },
  {
   "cell_type": "code",
   "execution_count": 14,
   "id": "bc366f30",
   "metadata": {},
   "outputs": [
    {
     "name": "stdout",
     "output_type": "stream",
     "text": [
      "28/28 [==============================] - 1s 1ms/step\n"
     ]
    }
   ],
   "source": [
    "predictions = model.predict(x_test)\n",
    "predictions = scaler.inverse_transform(predictions)"
   ]
  },
  {
   "cell_type": "markdown",
   "id": "2c0b69d5",
   "metadata": {},
   "source": [
    "### Get the RMSE (Root Mean Square Error) value"
   ]
  },
  {
   "cell_type": "code",
   "execution_count": 15,
   "id": "60f468e4",
   "metadata": {},
   "outputs": [],
   "source": [
    "rmse = np.sqrt(np.mean(predictions - y_test)**2)"
   ]
  },
  {
   "cell_type": "code",
   "execution_count": 16,
   "id": "ba3633ec",
   "metadata": {},
   "outputs": [
    {
     "name": "stdout",
     "output_type": "stream",
     "text": [
      "RMSE: 82.72583213073676\n"
     ]
    }
   ],
   "source": [
    "print(\"RMSE:\", rmse)"
   ]
  },
  {
   "cell_type": "markdown",
   "id": "a762723a",
   "metadata": {},
   "source": [
    "###### *RMSE measures the average difference between the predicted values generated by a model and the actual observed values"
   ]
  },
  {
   "cell_type": "markdown",
   "id": "0880cd05",
   "metadata": {},
   "source": [
    "# Visualization of the predicted values and actual values"
   ]
  },
  {
   "cell_type": "code",
   "execution_count": 17,
   "id": "61a356b0",
   "metadata": {},
   "outputs": [
    {
     "data": {
      "image/png": "[encoded data removed]",
      "text/plain": [
       "<Figure size 864x432 with 1 Axes>"
      ]
     },
     "metadata": {
      "needs_background": "light"
     },
     "output_type": "display_data"
    }
   ],
   "source": [
    "plt.figure(figsize=(12, 6))\n",
    "plt.plot(predictions, color='blue', label='Predicted')\n",
    "plt.plot(y_test, color='green', label='Actual')\n",
    "plt.xlabel('Time')\n",
    "plt.ylabel('Stock Price')\n",
    "plt.title('TCS Stock Price Prediction')\n",
    "plt.legend()\n",
    "plt.grid(True)\n",
    "plt.show()"
   ]
  },
  {
   "cell_type": "markdown",
   "id": "7d061a18",
   "metadata": {},
   "source": [
    "# Save the visualized data as a CSV file"
   ]
  },
  {
   "cell_type": "code",
   "execution_count": 18,
   "id": "4db3854f",
   "metadata": {},
   "outputs": [],
   "source": [
    "predictions_df = pd.DataFrame(predictions, columns=[\"Predicted Price\"])\n",
    "actual_prices_df = pd.DataFrame(y_test, columns=[\"Actual Price\"])"
   ]
  },
  {
   "cell_type": "code",
   "execution_count": 19,
   "id": "550db423",
   "metadata": {},
   "outputs": [
    {
     "name": "stdout",
     "output_type": "stream",
     "text": [
      "     Predicted Price  Actual Price\n",
      "0        1351.057983   1360.457153\n",
      "1        1357.445679   1363.805054\n",
      "2        1360.718018   1359.411255\n",
      "3        1356.423218   1369.245483\n",
      "4        1366.034424   1414.604004\n",
      "..               ...           ...\n",
      "887      3456.482910   3871.300049\n",
      "888      3457.837402   3836.949951\n",
      "889      3435.059814   3779.149902\n",
      "890      3396.332764   3791.899902\n",
      "891      3404.918945   3773.199951\n",
      "\n",
      "[892 rows x 2 columns]\n"
     ]
    }
   ],
   "source": [
    "result_df = pd.concat([predictions_df, actual_prices_df], axis=1)\n",
    "print(result_df)\n",
    "result_df.to_csv(\"predicted_actual_prices.csv\", index=False)"
   ]
  },
  {
   "cell_type": "code",
   "execution_count": null,
   "id": "34e264e1",
   "metadata": {},
   "outputs": [],
   "source": []
  }
 ],
 "metadata": {
  "kernelspec": {
   "display_name": "Python 3 (ipykernel)",
   "language": "python",
   "name": "python3"
  },
  "language_info": {
   "codemirror_mode": {
    "name": "ipython",
    "version": 3
   },
   "file_extension": ".py",
   "mimetype": "text/x-python",
   "name": "python",
   "nbconvert_exporter": "python",
   "pygments_lexer": "ipython3",
   "version": "3.9.12"
  }
 },
 "nbformat": 4,
 "nbformat_minor": 5
}
