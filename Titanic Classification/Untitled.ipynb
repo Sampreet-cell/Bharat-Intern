{
 "cells": [
  {
   "cell_type": "code",
   "execution_count": 1,
   "id": "336a0586-3130-44e4-996f-7c9ad976b387",
   "metadata": {},
   "outputs": [],
   "source": [
    "import pandas as pd\n",
    "from sklearn.model_selection import train_test_split\n",
    "from sklearn.preprocessing import LabelEncoder\n",
    "import xgboost as xgb\n",
    "import matplotlib.pyplot as plt\n",
    "import seaborn as sns"
   ]
  },
  {
   "cell_type": "markdown",
   "id": "2ff3b5b1-cd98-4aa7-9872-60b5ed33c9a0",
   "metadata": {},
   "source": [
    "# Load The Training and Test data"
   ]
  },
  {
   "cell_type": "code",
   "execution_count": 2,
   "id": "ec0c1d00-8391-47d6-93f3-1a322764dd59",
   "metadata": {},
   "outputs": [],
   "source": [
    "train_df = pd.read_csv('datasets/train.csv')\n",
    "test_df = pd.read_csv('datasets/test.csv')"
   ]
  },
  {
   "cell_type": "markdown",
   "id": "811d86d3-045b-4a34-8582-c8ec58e665f0",
   "metadata": {},
   "source": [
    "# Data preprocessing"
   ]
  },
  {
   "cell_type": "code",
   "execution_count": 3,
   "id": "fe9e5f18-5572-4eac-b582-21d6b4461167",
   "metadata": {},
   "outputs": [],
   "source": [
    "train_df = train_df.drop(['Ticket', 'Cabin', 'Embarked'], axis=1)\n",
    "test_df = test_df.drop(['Ticket', 'Cabin', 'Embarked'], axis=1)"
   ]
  },
  {
   "cell_type": "code",
   "execution_count": 4,
   "id": "7436a47a-faba-4b1f-9ae5-efaa7d782428",
   "metadata": {},
   "outputs": [
    {
     "name": "stderr",
     "output_type": "stream",
     "text": [
      "C:\\Users\\SAMPREET\\AppData\\Local\\Temp\\ipykernel_15500\\3408179833.py:1: FutureWarning: Dropping of nuisance columns in DataFrame reductions (with 'numeric_only=None') is deprecated; in a future version this will raise TypeError.  Select only valid columns before calling the reduction.\n",
      "  train_df = train_df.fillna(train_df.mean())\n",
      "C:\\Users\\SAMPREET\\AppData\\Local\\Temp\\ipykernel_15500\\3408179833.py:2: FutureWarning: Dropping of nuisance columns in DataFrame reductions (with 'numeric_only=None') is deprecated; in a future version this will raise TypeError.  Select only valid columns before calling the reduction.\n",
      "  test_df = test_df.fillna(test_df.mean())\n"
     ]
    }
   ],
   "source": [
    "train_df = train_df.fillna(train_df.mean())\n",
    "test_df = test_df.fillna(test_df.mean())"
   ]
  },
  {
   "cell_type": "code",
   "execution_count": 5,
   "id": "99765b0e-da29-409e-b946-e4f5622c95c2",
   "metadata": {},
   "outputs": [],
   "source": [
    "label_encoder = LabelEncoder()\n",
    "train_df['Sex'] = label_encoder.fit_transform(train_df['Sex'])\n",
    "test_df['Sex'] = label_encoder.transform(test_df['Sex'])"
   ]
  },
  {
   "cell_type": "markdown",
   "id": "928fde2a-1b21-4850-9a85-392de7278e23",
   "metadata": {},
   "source": [
    "# Features selected for prediction"
   ]
  },
  {
   "cell_type": "code",
   "execution_count": 6,
   "id": "54c885db-80f6-4122-b339-ae1112b9afde",
   "metadata": {},
   "outputs": [],
   "source": [
    "selected_features = ['Pclass', 'Sex', 'Age']"
   ]
  },
  {
   "cell_type": "markdown",
   "id": "62f1c47f-3242-4a5f-af1d-0673fc0c4abd",
   "metadata": {},
   "source": [
    "#### *Pclass defines the combined success-socio-economic status of the passengers"
   ]
  },
  {
   "cell_type": "markdown",
   "id": "dd0a028e-c4fb-4cea-82d7-3092b17aa00d",
   "metadata": {},
   "source": [
    "# Data splitting and Training the data with XGBoost (Extreme Gradient Boosting)"
   ]
  },
  {
   "cell_type": "code",
   "execution_count": 7,
   "id": "287f67e5-5846-4f67-a52d-52196a5a9ddf",
   "metadata": {},
   "outputs": [],
   "source": [
    "X = train_df[selected_features]\n",
    "y = train_df['Survived']"
   ]
  },
  {
   "cell_type": "code",
   "execution_count": 8,
   "id": "0754dd96-020e-418d-960b-f09620560aa2",
   "metadata": {},
   "outputs": [],
   "source": [
    "X_train, X_val, y_train, y_val = train_test_split(X, y, test_size=0.2, random_state=42)"
   ]
  },
  {
   "cell_type": "code",
   "execution_count": 9,
   "id": "7b2962a2-e798-4772-b4cb-546861933d99",
   "metadata": {},
   "outputs": [
    {
     "data": {
      "text/plain": [
       "XGBClassifier(base_score=None, booster=None, callbacks=None,\n",
       "              colsample_bylevel=None, colsample_bynode=None,\n",
       "              colsample_bytree=None, early_stopping_rounds=None,\n",
       "              enable_categorical=False, eval_metric=None, feature_types=None,\n",
       "              gamma=None, gpu_id=None, grow_policy=None, importance_type=None,\n",
       "              interaction_constraints=None, learning_rate=None, max_bin=None,\n",
       "              max_cat_threshold=None, max_cat_to_onehot=None,\n",
       "              max_delta_step=None, max_depth=None, max_leaves=None,\n",
       "              min_child_weight=None, missing=nan, monotone_constraints=None,\n",
       "              n_estimators=100, n_jobs=None, num_parallel_tree=None,\n",
       "              predictor=None, random_state=None, ...)"
      ]
     },
     "execution_count": 9,
     "metadata": {},
     "output_type": "execute_result"
    }
   ],
   "source": [
    "model = xgb.XGBClassifier()\n",
    "model.fit(X_train, y_train)"
   ]
  },
  {
   "cell_type": "markdown",
   "id": "b1c8e91e-b58a-4c3c-97f0-532f6b79e14e",
   "metadata": {},
   "source": [
    "# Calculating accuracy and making predictions"
   ]
  },
  {
   "cell_type": "code",
   "execution_count": 10,
   "id": "b9d6d77f-730d-44bf-9bf6-62a8fd0d9475",
   "metadata": {},
   "outputs": [],
   "source": [
    "y_pred = model.predict(X_val)"
   ]
  },
  {
   "cell_type": "code",
   "execution_count": 11,
   "id": "3edc86ed-c4fc-4dfb-ae04-e2ed3ee91ed0",
   "metadata": {},
   "outputs": [
    {
     "name": "stdout",
     "output_type": "stream",
     "text": [
      "accuracy:  83.24022346368714\n"
     ]
    }
   ],
   "source": [
    "accuracy = (y_pred == y_val).mean()\n",
    "print(\"accuracy: \", accuracy*100)"
   ]
  },
  {
   "cell_type": "code",
   "execution_count": 12,
   "id": "c3cd400b-fcd7-4b3a-96bb-f99b3145dc6d",
   "metadata": {},
   "outputs": [],
   "source": [
    "X_test = test_df[selected_features]\n",
    "test_predictions = model.predict(X_test)"
   ]
  },
  {
   "cell_type": "markdown",
   "id": "c9edff8b-afb5-412b-a1fb-4268fac340e3",
   "metadata": {},
   "source": [
    "## Defining schema for the predictions csv file"
   ]
  },
  {
   "cell_type": "code",
   "execution_count": 13,
   "id": "28c0e505-eb41-46c7-8719-79ba0e371b4d",
   "metadata": {},
   "outputs": [],
   "source": [
    "decoded_column = label_encoder.inverse_transform(test_df['Sex'])"
   ]
  },
  {
   "cell_type": "code",
   "execution_count": 14,
   "id": "47d90315-5667-4bb8-b339-13ee7756b48b",
   "metadata": {},
   "outputs": [],
   "source": [
    "passenger_ids = test_df['PassengerId']\n",
    "passenger_names = test_df['Name']\n",
    "passenger_sex = decoded_column"
   ]
  },
  {
   "cell_type": "code",
   "execution_count": 15,
   "id": "f4b55065-4575-4c7f-ae22-a75bc4f40fac",
   "metadata": {},
   "outputs": [],
   "source": [
    "predictions_df = pd.DataFrame({\n",
    "    'PassengerId': passenger_ids,\n",
    "    'Name': passenger_names,\n",
    "    'Sex': passenger_sex,\n",
    "    'Survived': test_predictions\n",
    "})"
   ]
  },
  {
   "cell_type": "markdown",
   "id": "34b9f4e5-994b-48f9-9767-be5dc0274ac3",
   "metadata": {},
   "source": [
    "#### *adding PassengerID and Name in the predictions dataframe, which will help us to recognize exactly which passengers have survived"
   ]
  },
  {
   "cell_type": "code",
   "execution_count": 16,
   "id": "a5a94065-3630-49ab-9ee6-2bd3729ff342",
   "metadata": {},
   "outputs": [],
   "source": [
    "predictions_df['Survived'] += 1"
   ]
  },
  {
   "cell_type": "code",
   "execution_count": 17,
   "id": "39b85e9d-ebc5-426a-b83f-740c097b44f5",
   "metadata": {},
   "outputs": [],
   "source": [
    "predictions_df['Survived'] = predictions_df['Survived'].map({1: 'No', 2: 'Yes'})"
   ]
  },
  {
   "cell_type": "markdown",
   "id": "8300153e-fbda-4858-81b7-346d38193dc5",
   "metadata": {},
   "source": [
    "# Save the predictions result"
   ]
  },
  {
   "cell_type": "code",
   "execution_count": 18,
   "id": "151782d4-dbf8-4a55-9361-1003b6c8dee5",
   "metadata": {},
   "outputs": [],
   "source": [
    "predictions_df.to_csv('predictions.csv', index=False)"
   ]
  },
  {
   "cell_type": "markdown",
   "id": "4ede1c34-d9bf-4c4a-a6be-b4c8c91df726",
   "metadata": {},
   "source": [
    "# Analysis of the Predictions"
   ]
  },
  {
   "cell_type": "code",
   "execution_count": 19,
   "id": "41a3efa4-5179-4ef1-8297-e919f9cb180f",
   "metadata": {},
   "outputs": [
    {
     "data": {
      "image/png": "[encoded data removed]",
      "text/plain": [
       "<Figure size 432x288 with 1 Axes>"
      ]
     },
     "metadata": {},
     "output_type": "display_data"
    }
   ],
   "source": [
    "predictions_df = pd.read_csv('predictions.csv')\n",
    "survived_counts = predictions_df['Survived'].value_counts()\n",
    "labels = survived_counts.index\n",
    "sizes = survived_counts.values\n",
    "plt.pie(sizes, labels=labels, autopct='%1.1f%%', startangle=90)\n",
    "plt.title('Pie Chart of Survival Rate')\n",
    "plt.axis('equal')\n",
    "plt.show()"
   ]
  },
  {
   "cell_type": "code",
   "execution_count": 20,
   "id": "91803921-cf13-4346-88de-e83dd2599bb1",
   "metadata": {},
   "outputs": [
    {
     "data": {
      "image/png": "[encoded data removed]",
      "text/plain": [
       "<Figure size 432x288 with 1 Axes>"
      ]
     },
     "metadata": {
      "needs_background": "light"
     },
     "output_type": "display_data"
    }
   ],
   "source": [
    "predictions_df = pd.read_csv('predictions.csv')\n",
    "grouped_data = predictions_df.groupby(['Survived', 'Sex']).size().reset_index(name='Count')\n",
    "sns.barplot(x='Survived', y='Count', hue='Sex', data=grouped_data)\n",
    "plt.xlabel('Survived')\n",
    "plt.ylabel('Count')\n",
    "plt.title('Bar Graph of Survival by Gender')\n",
    "plt.show()"
   ]
  }
 ],
 "metadata": {
  "kernelspec": {
   "display_name": "Python 3 (ipykernel)",
   "language": "python",
   "name": "python3"
  },
  "language_info": {
   "codemirror_mode": {
    "name": "ipython",
    "version": 3
   },
   "file_extension": ".py",
   "mimetype": "text/x-python",
   "name": "python",
   "nbconvert_exporter": "python",
   "pygments_lexer": "ipython3",
   "version": "3.9.12"
  }
 },
 "nbformat": 4,
 "nbformat_minor": 5
}
